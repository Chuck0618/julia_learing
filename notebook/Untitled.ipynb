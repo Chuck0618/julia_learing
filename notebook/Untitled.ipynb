{
 "cells": [
  {
   "cell_type": "code",
   "execution_count": 2,
   "id": "cccd1d1f",
   "metadata": {},
   "outputs": [
    {
     "name": "stdout",
     "output_type": "stream",
     "text": [
      "hello\n"
     ]
    }
   ],
   "source": [
    "println(\"hello\")"
   ]
  },
  {
   "cell_type": "code",
   "execution_count": 4,
   "id": "9e834dc9",
   "metadata": {},
   "outputs": [
    {
     "name": "stdout",
     "output_type": "stream",
     "text": [
      "This is my first julia Notebook\n",
      "40100"
     ]
    }
   ],
   "source": [
    "println(\"This is my first julia Notebook\");\n",
    "x = 100;\n",
    "y = 200;\n",
    "print(x+y^2);"
   ]
  },
  {
   "cell_type": "markdown",
   "id": "ee14181e",
   "metadata": {},
   "source": [
    "## 首先，我们这里是一个 markdown \n",
    "公式试试 $ \\frac{a}{b} + \\cos(x)$"
   ]
  }
 ],
 "metadata": {
  "kernelspec": {
   "display_name": "Julia 1.8.2",
   "language": "julia",
   "name": "julia-1.8"
  },
  "language_info": {
   "file_extension": ".jl",
   "mimetype": "application/julia",
   "name": "julia",
   "version": "1.8.2"
  }
 },
 "nbformat": 4,
 "nbformat_minor": 5
}
