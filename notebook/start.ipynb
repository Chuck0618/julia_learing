{
 "cells": [
  {
   "cell_type": "code",
   "execution_count": 9,
   "id": "cccd1d1f",
   "metadata": {},
   "outputs": [
    {
     "data": {
      "text/plain": [
       "4×4 Matrix{Int64}:\n",
       " 1   4  -1  4\n",
       " 2   2   2  3\n",
       " 3  -1   6  2\n",
       " 4   0   5  3"
      ]
     },
     "execution_count": 9,
     "metadata": {},
     "output_type": "execute_result"
    }
   ],
   "source": [
    "using LinearAlgebra\n",
    "\n",
    "A =[1 4 -1 4; 2 2 2 3; 3 -1 6 2; 4 0 5 3]"
   ]
  },
  {
   "cell_type": "code",
   "execution_count": 8,
   "id": "9e834dc9",
   "metadata": {},
   "outputs": [
    {
     "data": {
      "text/plain": [
       "-9.000000000000004"
      ]
     },
     "execution_count": 8,
     "metadata": {},
     "output_type": "execute_result"
    }
   ],
   "source": [
    "det(A)"
   ]
  },
  {
   "cell_type": "code",
   "execution_count": 13,
   "id": "b05ad734",
   "metadata": {},
   "outputs": [
    {
     "data": {
      "text/plain": [
       "6×6 Matrix{Float64}:\n",
       " 0.0       0.0  0.0  0.0   0.0  1.0\n",
       " 0.0       0.0  0.0  0.0  -2.0  0.0\n",
       " 0.0       0.0  0.0  4.0   0.0  0.0\n",
       " 0.0       0.0  3.0  0.0   0.0  0.0\n",
       " 0.0       5.0  0.0  0.0   0.0  0.0\n",
       " 0.166667  0.0  0.0  0.0   0.0  0.0"
      ]
     },
     "execution_count": 13,
     "metadata": {},
     "output_type": "execute_result"
    }
   ],
   "source": [
    "B=zeros(6,6);\n",
    "B[1,6]=1;\n",
    "B[2,5]=-2;\n",
    "B[3,4]=4;\n",
    "B[4,3]=3;\n",
    "B[5,2]=5;\n",
    "B[6,1]=1/6;\n",
    "B"
   ]
  },
  {
   "cell_type": "code",
   "execution_count": 15,
   "id": "c115a5f4",
   "metadata": {},
   "outputs": [
    {
     "data": {
      "text/plain": [
       "20.0"
      ]
     },
     "execution_count": 15,
     "metadata": {},
     "output_type": "execute_result"
    }
   ],
   "source": [
    "det(B)"
   ]
  },
  {
   "cell_type": "code",
   "execution_count": 21,
   "id": "189fedb8",
   "metadata": {},
   "outputs": [
    {
     "data": {
      "text/plain": [
       "4×4 Matrix{Float64}:\n",
       " 3.0  2.0  2.0  2.0\n",
       " 2.0  3.0  2.0  2.0\n",
       " 2.0  2.0  3.0  2.0\n",
       " 2.0  2.0  2.0  3.0"
      ]
     },
     "execution_count": 21,
     "metadata": {},
     "output_type": "execute_result"
    }
   ],
   "source": [
    "C=ones(4,4).*2+Diagonal([1,1,1,1]);\n",
    "C"
   ]
  },
  {
   "cell_type": "code",
   "execution_count": 22,
   "id": "e29ccb3f",
   "metadata": {},
   "outputs": [
    {
     "data": {
      "text/plain": [
       "9.000000000000002"
      ]
     },
     "execution_count": 22,
     "metadata": {},
     "output_type": "execute_result"
    }
   ],
   "source": [
    "det(C)"
   ]
  },
  {
   "cell_type": "markdown",
   "id": "ee14181e",
   "metadata": {},
   "source": []
  },
  {
   "cell_type": "markdown",
   "id": "ca11fe10",
   "metadata": {},
   "source": [
    "## 首先，我们这里是一个 markdown\n",
    "- 我们要在这里\n",
    "- 做自 \n",
    "公式试试 $ \\frac{a}{b} + \\cos(x)$"
   ]
  },
  {
   "cell_type": "code",
   "execution_count": 14,
   "id": "22691e84",
   "metadata": {},
   "outputs": [
    {
     "data": {
      "text/plain": [
       "\"/home/huchq/Documents/project/julia_learing/notebook\""
      ]
     },
     "execution_count": 14,
     "metadata": {},
     "output_type": "execute_result"
    }
   ],
   "source": [
    "pwd()"
   ]
  }
 ],
 "metadata": {
  "kernelspec": {
   "display_name": "Julia 1.8.2",
   "language": "julia",
   "name": "julia-1.8"
  },
  "language_info": {
   "file_extension": ".jl",
   "mimetype": "application/julia",
   "name": "julia",
   "version": "1.8.2"
  }
 },
 "nbformat": 4,
 "nbformat_minor": 5
}
